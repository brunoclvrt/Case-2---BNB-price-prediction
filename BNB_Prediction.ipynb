{
  "nbformat": 4,
  "nbformat_minor": 0,
  "metadata": {
    "colab": {
      "name": "BNB_Prediction",
      "provenance": [],
      "authorship_tag": "ABX9TyPxrhK+faOT9L0PnoGLtDg+",
      "include_colab_link": true
    },
    "kernelspec": {
      "name": "python3",
      "display_name": "Python 3"
    },
    "language_info": {
      "name": "python"
    }
  },
  "cells": [
    {
      "cell_type": "markdown",
      "metadata": {
        "id": "view-in-github",
        "colab_type": "text"
      },
      "source": [
        "<a href=\"https://colab.research.google.com/github/brunoclvrt/Case-2---BNB-price-prediction/blob/main/BNB_Prediction.ipynb\" target=\"_parent\"><img src=\"https://colab.research.google.com/assets/colab-badge.svg\" alt=\"Open In Colab\"/></a>"
      ]
    },
    {
      "cell_type": "markdown",
      "source": [
        "#**Introduction**\n",
        "\n",
        "Launched in July 2017, Binance is the biggest cryptocurrency exchange globally based on daily trading volume. Binance aims to bring cryptocurrency exchanges to the forefront of financial activity globally. The idea behind Binance’s name is to show this new paradigm in global finance — Binary Finance, or Binance.\n",
        "\n",
        "Binance is a unique ecosystem of decentralized, blockchain-based networks. The company has grown to be the leading crypto exchange in a number of countries, and their side organizations are attracting significant interest as well. With an initial maximum supply of 200,000,000 BNB coins, of which 168,137,036 are currently in circulation as of September 2021.\n",
        "\n",
        "The prupose of this study is predict the BNB price until next 60 days, and answer a simple question: with the actual events running (FED increasing interest rate, Ukraine-Russia war, an lost of investors who are moving to fixed income to protect your money to volatile markets), the BNB price tends to go up or down?"
      ],
      "metadata": {
        "id": "ZYTSh9lK_L89"
      }
    },
    {
      "cell_type": "markdown",
      "source": [
        "#**Data Gathering**\n",
        "###To start our exploration, we have to load some libraries"
      ],
      "metadata": {
        "id": "agv7dnDX_VbL"
      }
    },
    {
      "cell_type": "code",
      "source": [
        "!pip install yfinance\n",
        "!pip install fbprophet\n",
        "!pip install plotly\n",
        "!pip install gitly==1.0.1"
      ],
      "metadata": {
        "id": "XQeWvmcT_QWf"
      },
      "execution_count": null,
      "outputs": []
    },
    {
      "cell_type": "code",
      "source": [
        "import pandas as pd # data manipulation\n",
        "import numpy as np # numeric calculations\n",
        "import plotly.graph_objs as go\n",
        "from gitly.colab.plot import GitlyPlotter #library to plot some plotly charts on github\n",
        "\n",
        "import yfinance as yf # in this library, we can get our stocks\n",
        "from datetime import date, timedelta #library for time series manipulation\n",
        "today = date.today()"
      ],
      "metadata": {
        "id": "_-tVXiaK_iLf"
      },
      "execution_count": null,
      "outputs": []
    },
    {
      "cell_type": "markdown",
      "source": [
        "To continue our capture strategy, we need to pass some informations"
      ],
      "metadata": {
        "id": "b6FYgDFn_z1Z"
      }
    },
    {
      "cell_type": "code",
      "source": [
        "end_date = today.strftime(\"%Y-%m-%d\")\n",
        "start_date = today - timedelta(days=1597) #we are capturing data since 01/01/2018\n",
        "start_date = start_date.strftime(\"%Y-%m-%d\")"
      ],
      "metadata": {
        "id": "4zshNlGB_05C"
      },
      "execution_count": 3,
      "outputs": []
    },
    {
      "cell_type": "code",
      "source": [
        "# LOADNG OUR DATASET\n",
        "\n",
        "df =yf.download(\"BNB-USD\", start=start_date, end=end_date,progress=False) #collect our BNB stocks dataset\n",
        "df[\"Date\"] = df.index\n",
        "df[[\"Open\", \"High\", \"Low\", \"Close\", \"Adj Close\", \"Volume\"]]\n",
        "df.reset_index(drop=True,inplace=True)\n",
        "\n",
        "df.head() #showing the first rows"
      ],
      "metadata": {
        "colab": {
          "base_uri": "https://localhost:8080/",
          "height": 206
        },
        "id": "mfTYuxgX_5Mh",
        "outputId": "776f044b-bf25-4b1e-f367-ed0b4eb5e6a6"
      },
      "execution_count": 4,
      "outputs": [
        {
          "output_type": "execute_result",
          "data": {
            "text/plain": [
              "      Open       High      Low     Close  Adj Close     Volume       Date\n",
              "0  8.62953   8.700570  7.95922   8.41461    8.41461   66422800 2018-01-01\n",
              "1  8.45770   9.122590  8.21718   8.83777    8.83777  104789000 2018-01-02\n",
              "2  8.77014   9.580780  8.52918   9.53588    9.53588  108852000 2018-01-03\n",
              "3  9.44584   9.538490  8.85413   9.21399    9.21399  158819008 2018-01-04\n",
              "4  9.14568  16.717699  9.09468  14.91720   14.91720  341504992 2018-01-05"
            ],
            "text/html": [
              "\n",
              "  <div id=\"df-451876bf-5196-4633-a24d-547400614aef\">\n",
              "    <div class=\"colab-df-container\">\n",
              "      <div>\n",
              "<style scoped>\n",
              "    .dataframe tbody tr th:only-of-type {\n",
              "        vertical-align: middle;\n",
              "    }\n",
              "\n",
              "    .dataframe tbody tr th {\n",
              "        vertical-align: top;\n",
              "    }\n",
              "\n",
              "    .dataframe thead th {\n",
              "        text-align: right;\n",
              "    }\n",
              "</style>\n",
              "<table border=\"1\" class=\"dataframe\">\n",
              "  <thead>\n",
              "    <tr style=\"text-align: right;\">\n",
              "      <th></th>\n",
              "      <th>Open</th>\n",
              "      <th>High</th>\n",
              "      <th>Low</th>\n",
              "      <th>Close</th>\n",
              "      <th>Adj Close</th>\n",
              "      <th>Volume</th>\n",
              "      <th>Date</th>\n",
              "    </tr>\n",
              "  </thead>\n",
              "  <tbody>\n",
              "    <tr>\n",
              "      <th>0</th>\n",
              "      <td>8.62953</td>\n",
              "      <td>8.700570</td>\n",
              "      <td>7.95922</td>\n",
              "      <td>8.41461</td>\n",
              "      <td>8.41461</td>\n",
              "      <td>66422800</td>\n",
              "      <td>2018-01-01</td>\n",
              "    </tr>\n",
              "    <tr>\n",
              "      <th>1</th>\n",
              "      <td>8.45770</td>\n",
              "      <td>9.122590</td>\n",
              "      <td>8.21718</td>\n",
              "      <td>8.83777</td>\n",
              "      <td>8.83777</td>\n",
              "      <td>104789000</td>\n",
              "      <td>2018-01-02</td>\n",
              "    </tr>\n",
              "    <tr>\n",
              "      <th>2</th>\n",
              "      <td>8.77014</td>\n",
              "      <td>9.580780</td>\n",
              "      <td>8.52918</td>\n",
              "      <td>9.53588</td>\n",
              "      <td>9.53588</td>\n",
              "      <td>108852000</td>\n",
              "      <td>2018-01-03</td>\n",
              "    </tr>\n",
              "    <tr>\n",
              "      <th>3</th>\n",
              "      <td>9.44584</td>\n",
              "      <td>9.538490</td>\n",
              "      <td>8.85413</td>\n",
              "      <td>9.21399</td>\n",
              "      <td>9.21399</td>\n",
              "      <td>158819008</td>\n",
              "      <td>2018-01-04</td>\n",
              "    </tr>\n",
              "    <tr>\n",
              "      <th>4</th>\n",
              "      <td>9.14568</td>\n",
              "      <td>16.717699</td>\n",
              "      <td>9.09468</td>\n",
              "      <td>14.91720</td>\n",
              "      <td>14.91720</td>\n",
              "      <td>341504992</td>\n",
              "      <td>2018-01-05</td>\n",
              "    </tr>\n",
              "  </tbody>\n",
              "</table>\n",
              "</div>\n",
              "      <button class=\"colab-df-convert\" onclick=\"convertToInteractive('df-451876bf-5196-4633-a24d-547400614aef')\"\n",
              "              title=\"Convert this dataframe to an interactive table.\"\n",
              "              style=\"display:none;\">\n",
              "        \n",
              "  <svg xmlns=\"http://www.w3.org/2000/svg\" height=\"24px\"viewBox=\"0 0 24 24\"\n",
              "       width=\"24px\">\n",
              "    <path d=\"M0 0h24v24H0V0z\" fill=\"none\"/>\n",
              "    <path d=\"M18.56 5.44l.94 2.06.94-2.06 2.06-.94-2.06-.94-.94-2.06-.94 2.06-2.06.94zm-11 1L8.5 8.5l.94-2.06 2.06-.94-2.06-.94L8.5 2.5l-.94 2.06-2.06.94zm10 10l.94 2.06.94-2.06 2.06-.94-2.06-.94-.94-2.06-.94 2.06-2.06.94z\"/><path d=\"M17.41 7.96l-1.37-1.37c-.4-.4-.92-.59-1.43-.59-.52 0-1.04.2-1.43.59L10.3 9.45l-7.72 7.72c-.78.78-.78 2.05 0 2.83L4 21.41c.39.39.9.59 1.41.59.51 0 1.02-.2 1.41-.59l7.78-7.78 2.81-2.81c.8-.78.8-2.07 0-2.86zM5.41 20L4 18.59l7.72-7.72 1.47 1.35L5.41 20z\"/>\n",
              "  </svg>\n",
              "      </button>\n",
              "      \n",
              "  <style>\n",
              "    .colab-df-container {\n",
              "      display:flex;\n",
              "      flex-wrap:wrap;\n",
              "      gap: 12px;\n",
              "    }\n",
              "\n",
              "    .colab-df-convert {\n",
              "      background-color: #E8F0FE;\n",
              "      border: none;\n",
              "      border-radius: 50%;\n",
              "      cursor: pointer;\n",
              "      display: none;\n",
              "      fill: #1967D2;\n",
              "      height: 32px;\n",
              "      padding: 0 0 0 0;\n",
              "      width: 32px;\n",
              "    }\n",
              "\n",
              "    .colab-df-convert:hover {\n",
              "      background-color: #E2EBFA;\n",
              "      box-shadow: 0px 1px 2px rgba(60, 64, 67, 0.3), 0px 1px 3px 1px rgba(60, 64, 67, 0.15);\n",
              "      fill: #174EA6;\n",
              "    }\n",
              "\n",
              "    [theme=dark] .colab-df-convert {\n",
              "      background-color: #3B4455;\n",
              "      fill: #D2E3FC;\n",
              "    }\n",
              "\n",
              "    [theme=dark] .colab-df-convert:hover {\n",
              "      background-color: #434B5C;\n",
              "      box-shadow: 0px 1px 3px 1px rgba(0, 0, 0, 0.15);\n",
              "      filter: drop-shadow(0px 1px 2px rgba(0, 0, 0, 0.3));\n",
              "      fill: #FFFFFF;\n",
              "    }\n",
              "  </style>\n",
              "\n",
              "      <script>\n",
              "        const buttonEl =\n",
              "          document.querySelector('#df-451876bf-5196-4633-a24d-547400614aef button.colab-df-convert');\n",
              "        buttonEl.style.display =\n",
              "          google.colab.kernel.accessAllowed ? 'block' : 'none';\n",
              "\n",
              "        async function convertToInteractive(key) {\n",
              "          const element = document.querySelector('#df-451876bf-5196-4633-a24d-547400614aef');\n",
              "          const dataTable =\n",
              "            await google.colab.kernel.invokeFunction('convertToInteractive',\n",
              "                                                     [key], {});\n",
              "          if (!dataTable) return;\n",
              "\n",
              "          const docLinkHtml = 'Like what you see? Visit the ' +\n",
              "            '<a target=\"_blank\" href=https://colab.research.google.com/notebooks/data_table.ipynb>data table notebook</a>'\n",
              "            + ' to learn more about interactive tables.';\n",
              "          element.innerHTML = '';\n",
              "          dataTable['output_type'] = 'display_data';\n",
              "          await google.colab.output.renderOutput(dataTable, element);\n",
              "          const docLink = document.createElement('div');\n",
              "          docLink.innerHTML = docLinkHtml;\n",
              "          element.appendChild(docLink);\n",
              "        }\n",
              "      </script>\n",
              "    </div>\n",
              "  </div>\n",
              "  "
            ]
          },
          "metadata": {},
          "execution_count": 4
        }
      ]
    },
    {
      "cell_type": "markdown",
      "source": [
        "#**Data Exploration**\n",
        "###Now, we're make some analysis in our dataset"
      ],
      "metadata": {
        "id": "4s9aAR-6AD0S"
      }
    },
    {
      "cell_type": "code",
      "source": [
        "#First of all, let's see the total of rows and columns\n",
        "\n",
        "df.shape"
      ],
      "metadata": {
        "colab": {
          "base_uri": "https://localhost:8080/"
        },
        "id": "a-cMzaFU_-tX",
        "outputId": "24643884-77e1-41c7-c077-308aa80874d3"
      },
      "execution_count": 5,
      "outputs": [
        {
          "output_type": "execute_result",
          "data": {
            "text/plain": [
              "(1598, 7)"
            ]
          },
          "metadata": {},
          "execution_count": 5
        }
      ]
    },
    {
      "cell_type": "code",
      "source": [
        "df.describe()"
      ],
      "metadata": {
        "colab": {
          "base_uri": "https://localhost:8080/",
          "height": 300
        },
        "id": "FoC39RFPAJOz",
        "outputId": "a146fc65-572c-46e9-e907-5b897b5c8178"
      },
      "execution_count": 6,
      "outputs": [
        {
          "output_type": "execute_result",
          "data": {
            "text/plain": [
              "              Open         High          Low        Close    Adj Close  \\\n",
              "count  1598.000000  1598.000000  1598.000000  1598.000000  1598.000000   \n",
              "mean    132.861592   137.680399   127.568523   133.009590   133.009590   \n",
              "std     189.532837   196.035522   182.162507   189.466339   189.466339   \n",
              "min       4.532951     4.635010     4.189971     4.528650     4.528650   \n",
              "25%      13.941175    14.409600    13.500475    13.929775    13.929775   \n",
              "50%      21.966192    22.627299    21.124612    22.003480    22.003480   \n",
              "75%     293.556961   307.660660   274.888985   293.852974   293.852974   \n",
              "max     676.315918   690.931946   634.549500   675.684082   675.684082   \n",
              "\n",
              "             Volume  \n",
              "count  1.598000e+03  \n",
              "mean   9.739478e+08  \n",
              "std    1.530898e+09  \n",
              "min    9.284000e+03  \n",
              "25%    1.283781e+08  \n",
              "50%    2.992769e+08  \n",
              "75%    1.482926e+09  \n",
              "max    1.798295e+10  "
            ],
            "text/html": [
              "\n",
              "  <div id=\"df-8d6dbdb9-590a-496d-ad3b-378414a17c49\">\n",
              "    <div class=\"colab-df-container\">\n",
              "      <div>\n",
              "<style scoped>\n",
              "    .dataframe tbody tr th:only-of-type {\n",
              "        vertical-align: middle;\n",
              "    }\n",
              "\n",
              "    .dataframe tbody tr th {\n",
              "        vertical-align: top;\n",
              "    }\n",
              "\n",
              "    .dataframe thead th {\n",
              "        text-align: right;\n",
              "    }\n",
              "</style>\n",
              "<table border=\"1\" class=\"dataframe\">\n",
              "  <thead>\n",
              "    <tr style=\"text-align: right;\">\n",
              "      <th></th>\n",
              "      <th>Open</th>\n",
              "      <th>High</th>\n",
              "      <th>Low</th>\n",
              "      <th>Close</th>\n",
              "      <th>Adj Close</th>\n",
              "      <th>Volume</th>\n",
              "    </tr>\n",
              "  </thead>\n",
              "  <tbody>\n",
              "    <tr>\n",
              "      <th>count</th>\n",
              "      <td>1598.000000</td>\n",
              "      <td>1598.000000</td>\n",
              "      <td>1598.000000</td>\n",
              "      <td>1598.000000</td>\n",
              "      <td>1598.000000</td>\n",
              "      <td>1.598000e+03</td>\n",
              "    </tr>\n",
              "    <tr>\n",
              "      <th>mean</th>\n",
              "      <td>132.861592</td>\n",
              "      <td>137.680399</td>\n",
              "      <td>127.568523</td>\n",
              "      <td>133.009590</td>\n",
              "      <td>133.009590</td>\n",
              "      <td>9.739478e+08</td>\n",
              "    </tr>\n",
              "    <tr>\n",
              "      <th>std</th>\n",
              "      <td>189.532837</td>\n",
              "      <td>196.035522</td>\n",
              "      <td>182.162507</td>\n",
              "      <td>189.466339</td>\n",
              "      <td>189.466339</td>\n",
              "      <td>1.530898e+09</td>\n",
              "    </tr>\n",
              "    <tr>\n",
              "      <th>min</th>\n",
              "      <td>4.532951</td>\n",
              "      <td>4.635010</td>\n",
              "      <td>4.189971</td>\n",
              "      <td>4.528650</td>\n",
              "      <td>4.528650</td>\n",
              "      <td>9.284000e+03</td>\n",
              "    </tr>\n",
              "    <tr>\n",
              "      <th>25%</th>\n",
              "      <td>13.941175</td>\n",
              "      <td>14.409600</td>\n",
              "      <td>13.500475</td>\n",
              "      <td>13.929775</td>\n",
              "      <td>13.929775</td>\n",
              "      <td>1.283781e+08</td>\n",
              "    </tr>\n",
              "    <tr>\n",
              "      <th>50%</th>\n",
              "      <td>21.966192</td>\n",
              "      <td>22.627299</td>\n",
              "      <td>21.124612</td>\n",
              "      <td>22.003480</td>\n",
              "      <td>22.003480</td>\n",
              "      <td>2.992769e+08</td>\n",
              "    </tr>\n",
              "    <tr>\n",
              "      <th>75%</th>\n",
              "      <td>293.556961</td>\n",
              "      <td>307.660660</td>\n",
              "      <td>274.888985</td>\n",
              "      <td>293.852974</td>\n",
              "      <td>293.852974</td>\n",
              "      <td>1.482926e+09</td>\n",
              "    </tr>\n",
              "    <tr>\n",
              "      <th>max</th>\n",
              "      <td>676.315918</td>\n",
              "      <td>690.931946</td>\n",
              "      <td>634.549500</td>\n",
              "      <td>675.684082</td>\n",
              "      <td>675.684082</td>\n",
              "      <td>1.798295e+10</td>\n",
              "    </tr>\n",
              "  </tbody>\n",
              "</table>\n",
              "</div>\n",
              "      <button class=\"colab-df-convert\" onclick=\"convertToInteractive('df-8d6dbdb9-590a-496d-ad3b-378414a17c49')\"\n",
              "              title=\"Convert this dataframe to an interactive table.\"\n",
              "              style=\"display:none;\">\n",
              "        \n",
              "  <svg xmlns=\"http://www.w3.org/2000/svg\" height=\"24px\"viewBox=\"0 0 24 24\"\n",
              "       width=\"24px\">\n",
              "    <path d=\"M0 0h24v24H0V0z\" fill=\"none\"/>\n",
              "    <path d=\"M18.56 5.44l.94 2.06.94-2.06 2.06-.94-2.06-.94-.94-2.06-.94 2.06-2.06.94zm-11 1L8.5 8.5l.94-2.06 2.06-.94-2.06-.94L8.5 2.5l-.94 2.06-2.06.94zm10 10l.94 2.06.94-2.06 2.06-.94-2.06-.94-.94-2.06-.94 2.06-2.06.94z\"/><path d=\"M17.41 7.96l-1.37-1.37c-.4-.4-.92-.59-1.43-.59-.52 0-1.04.2-1.43.59L10.3 9.45l-7.72 7.72c-.78.78-.78 2.05 0 2.83L4 21.41c.39.39.9.59 1.41.59.51 0 1.02-.2 1.41-.59l7.78-7.78 2.81-2.81c.8-.78.8-2.07 0-2.86zM5.41 20L4 18.59l7.72-7.72 1.47 1.35L5.41 20z\"/>\n",
              "  </svg>\n",
              "      </button>\n",
              "      \n",
              "  <style>\n",
              "    .colab-df-container {\n",
              "      display:flex;\n",
              "      flex-wrap:wrap;\n",
              "      gap: 12px;\n",
              "    }\n",
              "\n",
              "    .colab-df-convert {\n",
              "      background-color: #E8F0FE;\n",
              "      border: none;\n",
              "      border-radius: 50%;\n",
              "      cursor: pointer;\n",
              "      display: none;\n",
              "      fill: #1967D2;\n",
              "      height: 32px;\n",
              "      padding: 0 0 0 0;\n",
              "      width: 32px;\n",
              "    }\n",
              "\n",
              "    .colab-df-convert:hover {\n",
              "      background-color: #E2EBFA;\n",
              "      box-shadow: 0px 1px 2px rgba(60, 64, 67, 0.3), 0px 1px 3px 1px rgba(60, 64, 67, 0.15);\n",
              "      fill: #174EA6;\n",
              "    }\n",
              "\n",
              "    [theme=dark] .colab-df-convert {\n",
              "      background-color: #3B4455;\n",
              "      fill: #D2E3FC;\n",
              "    }\n",
              "\n",
              "    [theme=dark] .colab-df-convert:hover {\n",
              "      background-color: #434B5C;\n",
              "      box-shadow: 0px 1px 3px 1px rgba(0, 0, 0, 0.15);\n",
              "      filter: drop-shadow(0px 1px 2px rgba(0, 0, 0, 0.3));\n",
              "      fill: #FFFFFF;\n",
              "    }\n",
              "  </style>\n",
              "\n",
              "      <script>\n",
              "        const buttonEl =\n",
              "          document.querySelector('#df-8d6dbdb9-590a-496d-ad3b-378414a17c49 button.colab-df-convert');\n",
              "        buttonEl.style.display =\n",
              "          google.colab.kernel.accessAllowed ? 'block' : 'none';\n",
              "\n",
              "        async function convertToInteractive(key) {\n",
              "          const element = document.querySelector('#df-8d6dbdb9-590a-496d-ad3b-378414a17c49');\n",
              "          const dataTable =\n",
              "            await google.colab.kernel.invokeFunction('convertToInteractive',\n",
              "                                                     [key], {});\n",
              "          if (!dataTable) return;\n",
              "\n",
              "          const docLinkHtml = 'Like what you see? Visit the ' +\n",
              "            '<a target=\"_blank\" href=https://colab.research.google.com/notebooks/data_table.ipynb>data table notebook</a>'\n",
              "            + ' to learn more about interactive tables.';\n",
              "          element.innerHTML = '';\n",
              "          dataTable['output_type'] = 'display_data';\n",
              "          await google.colab.output.renderOutput(dataTable, element);\n",
              "          const docLink = document.createElement('div');\n",
              "          docLink.innerHTML = docLinkHtml;\n",
              "          element.appendChild(docLink);\n",
              "        }\n",
              "      </script>\n",
              "    </div>\n",
              "  </div>\n",
              "  "
            ]
          },
          "metadata": {},
          "execution_count": 6
        }
      ]
    },
    {
      "cell_type": "code",
      "source": [
        "gitly = GitlyPlotter('github')\n",
        "gitly.config_render('github')\n",
        "\n",
        "data = go.Candlestick(x = df[\"Date\"], open = df[\"Open\"],high = df[\"High\"], low = df[\"Low\"], close = df[\"Close\"])\n",
        "figure = go.Figure(data=data)\n",
        "\n",
        "figure.update_layout(title = \"BNB PRICE - HISTORICAL ANALYSIS\", xaxis_rangeslider_visible = False)\n",
        "\n",
        "gitly.show(figure)"
      ],
      "metadata": {
        "colab": {
          "base_uri": "https://localhost:8080/",
          "height": 467
        },
        "id": "rWipItafAQfx",
        "outputId": "83559d0e-9067-46d7-ab3a-343aae1d1f68"
      },
      "execution_count": 7,
      "outputs": [
        {
          "output_type": "execute_result",
          "data": {
            "text/plain": [
              "<IPython.core.display.Image object>"
            ],
            "image/png": "[encoded data removed]"
          },
          "metadata": {},
          "execution_count": 7
        }
      ]
    },
    {
      "cell_type": "markdown",
      "source": [
        "As we can see, the prices start to go higher after 2021's january, reaching your peak in the middle of the first semester of 2021"
      ],
      "metadata": {
        "id": "ZG_SFU4YAbLB"
      }
    },
    {
      "cell_type": "code",
      "source": [
        "#Now let's see te variation between the top and botton prices\n",
        "\n",
        "x1 = df[\"Close\"].max()\n",
        "x2 = df[\"Close\"].min()\n",
        "\n",
        "x = (x1/x2)*100\n",
        "\n",
        "print(x,\"%\")"
      ],
      "metadata": {
        "colab": {
          "base_uri": "https://localhost:8080/"
        },
        "id": "ZyIQdxiGAcLn",
        "outputId": "8a0238ee-5d25-41f0-842e-b8be2223ad51"
      },
      "execution_count": 44,
      "outputs": [
        {
          "output_type": "stream",
          "name": "stdout",
          "text": [
            "14920.21045633444 %\n"
          ]
        }
      ]
    },
    {
      "cell_type": "markdown",
      "source": [
        "We can see a variation of almost 15000%!"
      ],
      "metadata": {
        "id": "K4QySKfeAhCe"
      }
    },
    {
      "cell_type": "markdown",
      "source": [
        ""
      ],
      "metadata": {
        "id": "scGkbHz5ApIH"
      }
    },
    {
      "cell_type": "markdown",
      "source": [
        "#**Now, it's time to make our predictions**\n",
        "###Let's see if it works hahahahaha"
      ],
      "metadata": {
        "id": "LXDquzDDAorl"
      }
    },
    {
      "cell_type": "code",
      "source": [
        "#Before to make our predicitons, we have to get the correlation between the values\n",
        "\n",
        "correlation = df.corr()\n",
        "\n",
        "import matplotlib.pyplot as plt\n",
        "import seaborn as sns\n",
        "\n",
        "figure = sns.heatmap(correlation, cmap = \"YlGnBu\",annot = True)\n",
        "\n",
        "plt.show(figure)"
      ],
      "metadata": {
        "colab": {
          "base_uri": "https://localhost:8080/",
          "height": 269
        },
        "id": "p1Ku-rcPAkhc",
        "outputId": "402d87ed-5380-4a11-b79b-91d63a523c2e"
      },
      "execution_count": 9,
      "outputs": [
        {
          "output_type": "display_data",
          "data": {
            "text/plain": [
              "<Figure size 432x288 with 2 Axes>"
            ],
            "image/png": "[encoded data removed]"
          },
          "metadata": {
            "needs_background": "light"
          }
        }
      ]
    },
    {
      "cell_type": "markdown",
      "source": [
        "The volume column has a low correlation with the other columns in comparison. But, the correlations are almost perfect betwenn prices columns (open, high, low and close). To continue our study, we'll focus our predictions in these columns."
      ],
      "metadata": {
        "id": "LNmY7VQ-Ayeu"
      }
    },
    {
      "cell_type": "markdown",
      "source": [
        "To continue our study, let's define our prediction time, i decided to predict until the next 60 days (considering i made this study in 2021's may)."
      ],
      "metadata": {
        "id": "rRaa8qWCAz0J"
      }
    },
    {
      "cell_type": "markdown",
      "source": [
        "The Facebook Prophet model only works with data that contains a string time-series format in a column called “ds” and continuous values in a column called “y”."
      ],
      "metadata": {
        "id": "RLr3n10eCKl0"
      }
    },
    {
      "cell_type": "code",
      "source": [
        "from fbprophet import Prophet\n",
        "\n",
        "df_pred = df[['Date','Close']]\n",
        "df_pred.columns = ['ds','y'] #Changing column's names\n",
        "\n",
        "df_pred"
      ],
      "metadata": {
        "colab": {
          "base_uri": "https://localhost:8080/",
          "height": 424
        },
        "id": "I8QrhJhzA3JH",
        "outputId": "f5f45280-7002-4098-9a22-58ffa568a49b"
      },
      "execution_count": 11,
      "outputs": [
        {
          "output_type": "execute_result",
          "data": {
            "text/plain": [
              "             ds           y\n",
              "0    2018-01-01    8.414610\n",
              "1    2018-01-02    8.837770\n",
              "2    2018-01-03    9.535880\n",
              "3    2018-01-04    9.213990\n",
              "4    2018-01-05   14.917200\n",
              "...         ...         ...\n",
              "1593 2022-05-13  290.584198\n",
              "1594 2022-05-14  297.387604\n",
              "1595 2022-05-15  312.007721\n",
              "1596 2022-05-16  297.710114\n",
              "1597 2022-05-17  302.794617\n",
              "\n",
              "[1598 rows x 2 columns]"
            ],
            "text/html": [
              "\n",
              "  <div id=\"df-0b77cced-8d49-4a41-9b38-d868d6ea3f67\">\n",
              "    <div class=\"colab-df-container\">\n",
              "      <div>\n",
              "<style scoped>\n",
              "    .dataframe tbody tr th:only-of-type {\n",
              "        vertical-align: middle;\n",
              "    }\n",
              "\n",
              "    .dataframe tbody tr th {\n",
              "        vertical-align: top;\n",
              "    }\n",
              "\n",
              "    .dataframe thead th {\n",
              "        text-align: right;\n",
              "    }\n",
              "</style>\n",
              "<table border=\"1\" class=\"dataframe\">\n",
              "  <thead>\n",
              "    <tr style=\"text-align: right;\">\n",
              "      <th></th>\n",
              "      <th>ds</th>\n",
              "      <th>y</th>\n",
              "    </tr>\n",
              "  </thead>\n",
              "  <tbody>\n",
              "    <tr>\n",
              "      <th>0</th>\n",
              "      <td>2018-01-01</td>\n",
              "      <td>8.414610</td>\n",
              "    </tr>\n",
              "    <tr>\n",
              "      <th>1</th>\n",
              "      <td>2018-01-02</td>\n",
              "      <td>8.837770</td>\n",
              "    </tr>\n",
              "    <tr>\n",
              "      <th>2</th>\n",
              "      <td>2018-01-03</td>\n",
              "      <td>9.535880</td>\n",
              "    </tr>\n",
              "    <tr>\n",
              "      <th>3</th>\n",
              "      <td>2018-01-04</td>\n",
              "      <td>9.213990</td>\n",
              "    </tr>\n",
              "    <tr>\n",
              "      <th>4</th>\n",
              "      <td>2018-01-05</td>\n",
              "      <td>14.917200</td>\n",
              "    </tr>\n",
              "    <tr>\n",
              "      <th>...</th>\n",
              "      <td>...</td>\n",
              "      <td>...</td>\n",
              "    </tr>\n",
              "    <tr>\n",
              "      <th>1593</th>\n",
              "      <td>2022-05-13</td>\n",
              "      <td>290.584198</td>\n",
              "    </tr>\n",
              "    <tr>\n",
              "      <th>1594</th>\n",
              "      <td>2022-05-14</td>\n",
              "      <td>297.387604</td>\n",
              "    </tr>\n",
              "    <tr>\n",
              "      <th>1595</th>\n",
              "      <td>2022-05-15</td>\n",
              "      <td>312.007721</td>\n",
              "    </tr>\n",
              "    <tr>\n",
              "      <th>1596</th>\n",
              "      <td>2022-05-16</td>\n",
              "      <td>297.710114</td>\n",
              "    </tr>\n",
              "    <tr>\n",
              "      <th>1597</th>\n",
              "      <td>2022-05-17</td>\n",
              "      <td>302.794617</td>\n",
              "    </tr>\n",
              "  </tbody>\n",
              "</table>\n",
              "<p>1598 rows × 2 columns</p>\n",
              "</div>\n",
              "      <button class=\"colab-df-convert\" onclick=\"convertToInteractive('df-0b77cced-8d49-4a41-9b38-d868d6ea3f67')\"\n",
              "              title=\"Convert this dataframe to an interactive table.\"\n",
              "              style=\"display:none;\">\n",
              "        \n",
              "  <svg xmlns=\"http://www.w3.org/2000/svg\" height=\"24px\"viewBox=\"0 0 24 24\"\n",
              "       width=\"24px\">\n",
              "    <path d=\"M0 0h24v24H0V0z\" fill=\"none\"/>\n",
              "    <path d=\"M18.56 5.44l.94 2.06.94-2.06 2.06-.94-2.06-.94-.94-2.06-.94 2.06-2.06.94zm-11 1L8.5 8.5l.94-2.06 2.06-.94-2.06-.94L8.5 2.5l-.94 2.06-2.06.94zm10 10l.94 2.06.94-2.06 2.06-.94-2.06-.94-.94-2.06-.94 2.06-2.06.94z\"/><path d=\"M17.41 7.96l-1.37-1.37c-.4-.4-.92-.59-1.43-.59-.52 0-1.04.2-1.43.59L10.3 9.45l-7.72 7.72c-.78.78-.78 2.05 0 2.83L4 21.41c.39.39.9.59 1.41.59.51 0 1.02-.2 1.41-.59l7.78-7.78 2.81-2.81c.8-.78.8-2.07 0-2.86zM5.41 20L4 18.59l7.72-7.72 1.47 1.35L5.41 20z\"/>\n",
              "  </svg>\n",
              "      </button>\n",
              "      \n",
              "  <style>\n",
              "    .colab-df-container {\n",
              "      display:flex;\n",
              "      flex-wrap:wrap;\n",
              "      gap: 12px;\n",
              "    }\n",
              "\n",
              "    .colab-df-convert {\n",
              "      background-color: #E8F0FE;\n",
              "      border: none;\n",
              "      border-radius: 50%;\n",
              "      cursor: pointer;\n",
              "      display: none;\n",
              "      fill: #1967D2;\n",
              "      height: 32px;\n",
              "      padding: 0 0 0 0;\n",
              "      width: 32px;\n",
              "    }\n",
              "\n",
              "    .colab-df-convert:hover {\n",
              "      background-color: #E2EBFA;\n",
              "      box-shadow: 0px 1px 2px rgba(60, 64, 67, 0.3), 0px 1px 3px 1px rgba(60, 64, 67, 0.15);\n",
              "      fill: #174EA6;\n",
              "    }\n",
              "\n",
              "    [theme=dark] .colab-df-convert {\n",
              "      background-color: #3B4455;\n",
              "      fill: #D2E3FC;\n",
              "    }\n",
              "\n",
              "    [theme=dark] .colab-df-convert:hover {\n",
              "      background-color: #434B5C;\n",
              "      box-shadow: 0px 1px 3px 1px rgba(0, 0, 0, 0.15);\n",
              "      filter: drop-shadow(0px 1px 2px rgba(0, 0, 0, 0.3));\n",
              "      fill: #FFFFFF;\n",
              "    }\n",
              "  </style>\n",
              "\n",
              "      <script>\n",
              "        const buttonEl =\n",
              "          document.querySelector('#df-0b77cced-8d49-4a41-9b38-d868d6ea3f67 button.colab-df-convert');\n",
              "        buttonEl.style.display =\n",
              "          google.colab.kernel.accessAllowed ? 'block' : 'none';\n",
              "\n",
              "        async function convertToInteractive(key) {\n",
              "          const element = document.querySelector('#df-0b77cced-8d49-4a41-9b38-d868d6ea3f67');\n",
              "          const dataTable =\n",
              "            await google.colab.kernel.invokeFunction('convertToInteractive',\n",
              "                                                     [key], {});\n",
              "          if (!dataTable) return;\n",
              "\n",
              "          const docLinkHtml = 'Like what you see? Visit the ' +\n",
              "            '<a target=\"_blank\" href=https://colab.research.google.com/notebooks/data_table.ipynb>data table notebook</a>'\n",
              "            + ' to learn more about interactive tables.';\n",
              "          element.innerHTML = '';\n",
              "          dataTable['output_type'] = 'display_data';\n",
              "          await google.colab.output.renderOutput(dataTable, element);\n",
              "          const docLink = document.createElement('div');\n",
              "          docLink.innerHTML = docLinkHtml;\n",
              "          element.appendChild(docLink);\n",
              "        }\n",
              "      </script>\n",
              "    </div>\n",
              "  </div>\n",
              "  "
            ]
          },
          "metadata": {},
          "execution_count": 11
        }
      ]
    },
    {
      "cell_type": "code",
      "source": [
        "prophet = Prophet()\n",
        "prophet.fit(df_pred)"
      ],
      "metadata": {
        "colab": {
          "base_uri": "https://localhost:8080/"
        },
        "id": "KNG1zGmUCVmy",
        "outputId": "cb760c88-0463-4f0a-efff-586a9548515b"
      },
      "execution_count": 13,
      "outputs": [
        {
          "output_type": "stream",
          "name": "stderr",
          "text": [
            "INFO:fbprophet:Disabling daily seasonality. Run prophet with daily_seasonality=True to override this.\n"
          ]
        },
        {
          "output_type": "execute_result",
          "data": {
            "text/plain": [
              "<fbprophet.forecaster.Prophet at 0x7f0ed071cd90>"
            ]
          },
          "metadata": {},
          "execution_count": 13
        }
      ]
    },
    {
      "cell_type": "code",
      "source": [
        "prediction = prophet.make_future_dataframe(periods = 60) #creating a dataframe conteining date value\n",
        "\n",
        "print(prediction)"
      ],
      "metadata": {
        "colab": {
          "base_uri": "https://localhost:8080/"
        },
        "id": "CVKVn-JlC36J",
        "outputId": "532894a5-5681-417d-bbf9-ad86e3884625"
      },
      "execution_count": 16,
      "outputs": [
        {
          "output_type": "stream",
          "name": "stdout",
          "text": [
            "             ds\n",
            "0    2018-01-01\n",
            "1    2018-01-02\n",
            "2    2018-01-03\n",
            "3    2018-01-04\n",
            "4    2018-01-05\n",
            "...         ...\n",
            "1653 2022-07-12\n",
            "1654 2022-07-13\n",
            "1655 2022-07-14\n",
            "1656 2022-07-15\n",
            "1657 2022-07-16\n",
            "\n",
            "[1658 rows x 1 columns]\n"
          ]
        }
      ]
    },
    {
      "cell_type": "code",
      "source": [
        "forecast = prophet.predict(prediction)"
      ],
      "metadata": {
        "id": "3elNG3woDO-g"
      },
      "execution_count": 18,
      "outputs": []
    },
    {
      "cell_type": "code",
      "source": [
        "import plotly.express as px\n",
        "\n",
        "df_fig = forecast.query('ds >= \"2022-05-17\"')\n",
        "\n",
        "fig = px.line(df_fig, x = \"ds\", y = \"yhat\", title = 'BNB close price forecast until the next 60 days', labels = {'ds': 'year', 'yhat': 'value'}) #plotting our forecast\n",
        "\n",
        "\n",
        "gitly.show(fig)"
      ],
      "metadata": {
        "colab": {
          "base_uri": "https://localhost:8080/",
          "height": 467
        },
        "id": "jwbzAFRNDo6F",
        "outputId": "0b9ff613-9024-416a-ef44-9c869f18509a"
      },
      "execution_count": 37,
      "outputs": [
        {
          "output_type": "execute_result",
          "data": {
            "text/plain": [
              "<IPython.core.display.Image object>"
            ],
            "image/png": "[encoded data removed]"
          },
          "metadata": {},
          "execution_count": 37
        }
      ]
    },
    {
      "cell_type": "code",
      "source": [
        "# now, let's see BNB percentile of variation\n",
        "\n",
        "x1 = forecast['yhat'].min()\n",
        "x2 = forecast['yhat'].max()\n",
        "\n",
        "x = (x2/x1)\n",
        "\n",
        "print(x,\"%\")"
      ],
      "metadata": {
        "colab": {
          "base_uri": "https://localhost:8080/"
        },
        "id": "DMGWOjZTIhlx",
        "outputId": "bfaa451a-a9c4-4be2-9d5d-659cf83f1a84"
      },
      "execution_count": 42,
      "outputs": [
        {
          "output_type": "stream",
          "name": "stdout",
          "text": [
            "-21.022759498565506 %\n"
          ]
        }
      ]
    },
    {
      "cell_type": "markdown",
      "source": [
        "We can see for the next 60 days the price will drop around 21% (run to the hills hahaha)."
      ],
      "metadata": {
        "id": "Rf58ZEN8IoU4"
      }
    },
    {
      "cell_type": "markdown",
      "source": [
        "#**Conclusions**\n",
        "\n",
        "The BNB coin is the most valuable coins in cryptomarket today. Unfortunately, some events that happens today made all of cryptocurrencies drops, and with the characteristic volatility of the market, your price goes down. \n",
        "\n",
        "As we see with the forecast, despite some actual events, the BNB price tends to drop during the days, what makes new and old investors became bearish (some crypto slang when you bet in some cryptocurrent decrease)."
      ],
      "metadata": {
        "id": "egBF7GJuJKgK"
      }
    }
  ]
}