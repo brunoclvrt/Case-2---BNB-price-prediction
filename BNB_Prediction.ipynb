{
  "cells": [
    {
      "cell_type": "markdown",
      "metadata": {
        "id": "view-in-github",
        "colab_type": "text"
      },
      "source": [
        "<a href=\"https://colab.research.google.com/github/brunoclvrt/Case-2---BNB-price-prediction/blob/main/BNB_Prediction.ipynb\" target=\"_parent\"><img src=\"https://colab.research.google.com/assets/colab-badge.svg\" alt=\"Open In Colab\"/></a>"
      ]
    },
    {
      "cell_type": "markdown",
      "metadata": {
        "id": "GeEPD612m4SE"
      },
      "source": [
        "#**Introduction**\n",
        "\n",
        "Launched in July 2017, Binance is the biggest cryptocurrency exchange globally based on daily trading volume. Binance aims to bring cryptocurrency exchanges to the forefront of financial activity globally. The idea behind Binance’s name is to show this new paradigm in global finance — Binary Finance, or Binance.\n",
        "\n",
        "Binance is a unique ecosystem of decentralized, blockchain-based networks. The company has grown to be the leading crypto exchange in a number of countries, and their side organizations are attracting significant interest as well. With an initial maximum supply of 200,000,000 BNB coins, of which 168,137,036 are currently in circulation as of September 2021.\n",
        "\n",
        "The prupose of this study is predict the BNB price until the end of year (december 31th), and answer a simple question: with the actual events running (FED increasing interest rate, Ukraine-Russia war, an lost of investors who are moving to fixed income to protect your money to volatile markets), the BNB price tends to go up or down?"
      ]
    },
    {
      "cell_type": "markdown",
      "metadata": {
        "id": "psbliIF3JrdQ"
      },
      "source": [
        "#**Data Gathering**\n",
        "###To start our exploration, we have to load some libraries"
      ]
    },
    {
      "cell_type": "code",
      "execution_count": 28,
      "metadata": {
        "id": "Cdh34dlYPS5_",
        "colab": {
          "base_uri": "https://localhost:8080/"
        },
        "outputId": "95ce653e-e12e-4be7-e344-77a09a2f489d"
      },
      "outputs": [
        {
          "output_type": "stream",
          "name": "stdout",
          "text": [
            "Requirement already satisfied: yfinance in /usr/local/lib/python3.7/dist-packages (0.1.70)\n",
            "Requirement already satisfied: pandas>=0.24.0 in /usr/local/lib/python3.7/dist-packages (from yfinance) (1.3.5)\n",
            "Requirement already satisfied: numpy>=1.15 in /usr/local/lib/python3.7/dist-packages (from yfinance) (1.21.6)\n",
            "Requirement already satisfied: multitasking>=0.0.7 in /usr/local/lib/python3.7/dist-packages (from yfinance) (0.0.10)\n",
            "Requirement already satisfied: lxml>=4.5.1 in /usr/local/lib/python3.7/dist-packages (from yfinance) (4.8.0)\n",
            "Requirement already satisfied: requests>=2.26 in /usr/local/lib/python3.7/dist-packages (from yfinance) (2.27.1)\n",
            "Requirement already satisfied: python-dateutil>=2.7.3 in /usr/local/lib/python3.7/dist-packages (from pandas>=0.24.0->yfinance) (2.8.2)\n",
            "Requirement already satisfied: pytz>=2017.3 in /usr/local/lib/python3.7/dist-packages (from pandas>=0.24.0->yfinance) (2022.1)\n",
            "Requirement already satisfied: six>=1.5 in /usr/local/lib/python3.7/dist-packages (from python-dateutil>=2.7.3->pandas>=0.24.0->yfinance) (1.15.0)\n",
            "Requirement already satisfied: urllib3<1.27,>=1.21.1 in /usr/local/lib/python3.7/dist-packages (from requests>=2.26->yfinance) (1.24.3)\n",
            "Requirement already satisfied: certifi>=2017.4.17 in /usr/local/lib/python3.7/dist-packages (from requests>=2.26->yfinance) (2021.10.8)\n",
            "Requirement already satisfied: charset-normalizer~=2.0.0 in /usr/local/lib/python3.7/dist-packages (from requests>=2.26->yfinance) (2.0.12)\n",
            "Requirement already satisfied: idna<4,>=2.5 in /usr/local/lib/python3.7/dist-packages (from requests>=2.26->yfinance) (2.10)\n",
            "Requirement already satisfied: autots in /usr/local/lib/python3.7/dist-packages (0.4.0)\n",
            "Requirement already satisfied: statsmodels>=0.10.* in /usr/local/lib/python3.7/dist-packages (from autots) (0.10.2)\n",
            "Requirement already satisfied: numpy>=1.14.6 in /usr/local/lib/python3.7/dist-packages (from autots) (1.21.6)\n",
            "Requirement already satisfied: scikit-learn>=0.20.* in /usr/local/lib/python3.7/dist-packages (from autots) (1.0.2)\n",
            "Requirement already satisfied: pandas>=0.25.* in /usr/local/lib/python3.7/dist-packages (from autots) (1.3.5)\n",
            "Requirement already satisfied: pytz>=2017.3 in /usr/local/lib/python3.7/dist-packages (from pandas>=0.25.*->autots) (2022.1)\n",
            "Requirement already satisfied: python-dateutil>=2.7.3 in /usr/local/lib/python3.7/dist-packages (from pandas>=0.25.*->autots) (2.8.2)\n",
            "Requirement already satisfied: six>=1.5 in /usr/local/lib/python3.7/dist-packages (from python-dateutil>=2.7.3->pandas>=0.25.*->autots) (1.15.0)\n",
            "Requirement already satisfied: scipy>=1.1.0 in /usr/local/lib/python3.7/dist-packages (from scikit-learn>=0.20.*->autots) (1.4.1)\n",
            "Requirement already satisfied: joblib>=0.11 in /usr/local/lib/python3.7/dist-packages (from scikit-learn>=0.20.*->autots) (1.1.0)\n",
            "Requirement already satisfied: threadpoolctl>=2.0.0 in /usr/local/lib/python3.7/dist-packages (from scikit-learn>=0.20.*->autots) (3.1.0)\n",
            "Requirement already satisfied: patsy>=0.4.0 in /usr/local/lib/python3.7/dist-packages (from statsmodels>=0.10.*->autots) (0.5.2)\n",
            "Requirement already satisfied: plotly in /usr/local/lib/python3.7/dist-packages (5.5.0)\n",
            "Requirement already satisfied: six in /usr/local/lib/python3.7/dist-packages (from plotly) (1.15.0)\n",
            "Requirement already satisfied: tenacity>=6.2.0 in /usr/local/lib/python3.7/dist-packages (from plotly) (8.0.1)\n",
            "Requirement already satisfied: gitly==1.0.1 in /usr/local/lib/python3.7/dist-packages (1.0.1)\n"
          ]
        }
      ],
      "source": [
        "!pip install yfinance\n",
        "!pip install autots\n",
        "!pip install plotly\n",
        "!pip install gitly==1.0.1"
      ]
    },
    {
      "cell_type": "code",
      "execution_count": 16,
      "metadata": {
        "id": "bI3sOFTyKSUP"
      },
      "outputs": [],
      "source": [
        "import pandas as pd # data manipulation\n",
        "import numpy as np # numeric calculations\n",
        "import plotly.graph_objs as go\n",
        "from gitly.colab.plot import GitlyPlotter #library to plot some plotly graphs on github\n",
        "\n",
        "import yfinance as yf # in this library, we can get our stocks\n",
        "from datetime import date, timedelta #library for time series manipulation\n",
        "today = date.today()"
      ]
    },
    {
      "cell_type": "markdown",
      "metadata": {
        "id": "n8oomJFePd9U"
      },
      "source": [
        "###To continue our capture strategy, we need to pass some informations"
      ]
    },
    {
      "cell_type": "code",
      "execution_count": 17,
      "metadata": {
        "id": "iUaazkvIPsli"
      },
      "outputs": [],
      "source": [
        "end_date = today.strftime(\"%Y-%m-%d\")\n",
        "start_date = today - timedelta(days=1596) #we are capturing data since 01/01/2018\n",
        "start_date = start_date.strftime(\"%Y-%m-%d\")"
      ]
    },
    {
      "cell_type": "code",
      "execution_count": 18,
      "metadata": {
        "colab": {
          "base_uri": "https://localhost:8080/",
          "height": 206
        },
        "id": "sCtlDsMoQsMw",
        "outputId": "78a4ad13-43f5-4931-f033-bd7a5d8b9612"
      },
      "outputs": [
        {
          "output_type": "execute_result",
          "data": {
            "text/plain": [
              "      Open       High      Low     Close  Adj Close     Volume       Date\n",
              "0  8.62953   8.700570  7.95922   8.41461    8.41461   66422800 2018-01-01\n",
              "1  8.45770   9.122590  8.21718   8.83777    8.83777  104789000 2018-01-02\n",
              "2  8.77014   9.580780  8.52918   9.53588    9.53588  108852000 2018-01-03\n",
              "3  9.44584   9.538490  8.85413   9.21399    9.21399  158819008 2018-01-04\n",
              "4  9.14568  16.717699  9.09468  14.91720   14.91720  341504992 2018-01-05"
            ],
            "text/html": [
              "\n",
              "  <div id=\"df-bb1f45e3-c090-438b-a0d5-5e50d10ad27a\">\n",
              "    <div class=\"colab-df-container\">\n",
              "      <div>\n",
              "<style scoped>\n",
              "    .dataframe tbody tr th:only-of-type {\n",
              "        vertical-align: middle;\n",
              "    }\n",
              "\n",
              "    .dataframe tbody tr th {\n",
              "        vertical-align: top;\n",
              "    }\n",
              "\n",
              "    .dataframe thead th {\n",
              "        text-align: right;\n",
              "    }\n",
              "</style>\n",
              "<table border=\"1\" class=\"dataframe\">\n",
              "  <thead>\n",
              "    <tr style=\"text-align: right;\">\n",
              "      <th></th>\n",
              "      <th>Open</th>\n",
              "      <th>High</th>\n",
              "      <th>Low</th>\n",
              "      <th>Close</th>\n",
              "      <th>Adj Close</th>\n",
              "      <th>Volume</th>\n",
              "      <th>Date</th>\n",
              "    </tr>\n",
              "  </thead>\n",
              "  <tbody>\n",
              "    <tr>\n",
              "      <th>0</th>\n",
              "      <td>8.62953</td>\n",
              "      <td>8.700570</td>\n",
              "      <td>7.95922</td>\n",
              "      <td>8.41461</td>\n",
              "      <td>8.41461</td>\n",
              "      <td>66422800</td>\n",
              "      <td>2018-01-01</td>\n",
              "    </tr>\n",
              "    <tr>\n",
              "      <th>1</th>\n",
              "      <td>8.45770</td>\n",
              "      <td>9.122590</td>\n",
              "      <td>8.21718</td>\n",
              "      <td>8.83777</td>\n",
              "      <td>8.83777</td>\n",
              "      <td>104789000</td>\n",
              "      <td>2018-01-02</td>\n",
              "    </tr>\n",
              "    <tr>\n",
              "      <th>2</th>\n",
              "      <td>8.77014</td>\n",
              "      <td>9.580780</td>\n",
              "      <td>8.52918</td>\n",
              "      <td>9.53588</td>\n",
              "      <td>9.53588</td>\n",
              "      <td>108852000</td>\n",
              "      <td>2018-01-03</td>\n",
              "    </tr>\n",
              "    <tr>\n",
              "      <th>3</th>\n",
              "      <td>9.44584</td>\n",
              "      <td>9.538490</td>\n",
              "      <td>8.85413</td>\n",
              "      <td>9.21399</td>\n",
              "      <td>9.21399</td>\n",
              "      <td>158819008</td>\n",
              "      <td>2018-01-04</td>\n",
              "    </tr>\n",
              "    <tr>\n",
              "      <th>4</th>\n",
              "      <td>9.14568</td>\n",
              "      <td>16.717699</td>\n",
              "      <td>9.09468</td>\n",
              "      <td>14.91720</td>\n",
              "      <td>14.91720</td>\n",
              "      <td>341504992</td>\n",
              "      <td>2018-01-05</td>\n",
              "    </tr>\n",
              "  </tbody>\n",
              "</table>\n",
              "</div>\n",
              "      <button class=\"colab-df-convert\" onclick=\"convertToInteractive('df-bb1f45e3-c090-438b-a0d5-5e50d10ad27a')\"\n",
              "              title=\"Convert this dataframe to an interactive table.\"\n",
              "              style=\"display:none;\">\n",
              "        \n",
              "  <svg xmlns=\"http://www.w3.org/2000/svg\" height=\"24px\"viewBox=\"0 0 24 24\"\n",
              "       width=\"24px\">\n",
              "    <path d=\"M0 0h24v24H0V0z\" fill=\"none\"/>\n",
              "    <path d=\"M18.56 5.44l.94 2.06.94-2.06 2.06-.94-2.06-.94-.94-2.06-.94 2.06-2.06.94zm-11 1L8.5 8.5l.94-2.06 2.06-.94-2.06-.94L8.5 2.5l-.94 2.06-2.06.94zm10 10l.94 2.06.94-2.06 2.06-.94-2.06-.94-.94-2.06-.94 2.06-2.06.94z\"/><path d=\"M17.41 7.96l-1.37-1.37c-.4-.4-.92-.59-1.43-.59-.52 0-1.04.2-1.43.59L10.3 9.45l-7.72 7.72c-.78.78-.78 2.05 0 2.83L4 21.41c.39.39.9.59 1.41.59.51 0 1.02-.2 1.41-.59l7.78-7.78 2.81-2.81c.8-.78.8-2.07 0-2.86zM5.41 20L4 18.59l7.72-7.72 1.47 1.35L5.41 20z\"/>\n",
              "  </svg>\n",
              "      </button>\n",
              "      \n",
              "  <style>\n",
              "    .colab-df-container {\n",
              "      display:flex;\n",
              "      flex-wrap:wrap;\n",
              "      gap: 12px;\n",
              "    }\n",
              "\n",
              "    .colab-df-convert {\n",
              "      background-color: #E8F0FE;\n",
              "      border: none;\n",
              "      border-radius: 50%;\n",
              "      cursor: pointer;\n",
              "      display: none;\n",
              "      fill: #1967D2;\n",
              "      height: 32px;\n",
              "      padding: 0 0 0 0;\n",
              "      width: 32px;\n",
              "    }\n",
              "\n",
              "    .colab-df-convert:hover {\n",
              "      background-color: #E2EBFA;\n",
              "      box-shadow: 0px 1px 2px rgba(60, 64, 67, 0.3), 0px 1px 3px 1px rgba(60, 64, 67, 0.15);\n",
              "      fill: #174EA6;\n",
              "    }\n",
              "\n",
              "    [theme=dark] .colab-df-convert {\n",
              "      background-color: #3B4455;\n",
              "      fill: #D2E3FC;\n",
              "    }\n",
              "\n",
              "    [theme=dark] .colab-df-convert:hover {\n",
              "      background-color: #434B5C;\n",
              "      box-shadow: 0px 1px 3px 1px rgba(0, 0, 0, 0.15);\n",
              "      filter: drop-shadow(0px 1px 2px rgba(0, 0, 0, 0.3));\n",
              "      fill: #FFFFFF;\n",
              "    }\n",
              "  </style>\n",
              "\n",
              "      <script>\n",
              "        const buttonEl =\n",
              "          document.querySelector('#df-bb1f45e3-c090-438b-a0d5-5e50d10ad27a button.colab-df-convert');\n",
              "        buttonEl.style.display =\n",
              "          google.colab.kernel.accessAllowed ? 'block' : 'none';\n",
              "\n",
              "        async function convertToInteractive(key) {\n",
              "          const element = document.querySelector('#df-bb1f45e3-c090-438b-a0d5-5e50d10ad27a');\n",
              "          const dataTable =\n",
              "            await google.colab.kernel.invokeFunction('convertToInteractive',\n",
              "                                                     [key], {});\n",
              "          if (!dataTable) return;\n",
              "\n",
              "          const docLinkHtml = 'Like what you see? Visit the ' +\n",
              "            '<a target=\"_blank\" href=https://colab.research.google.com/notebooks/data_table.ipynb>data table notebook</a>'\n",
              "            + ' to learn more about interactive tables.';\n",
              "          element.innerHTML = '';\n",
              "          dataTable['output_type'] = 'display_data';\n",
              "          await google.colab.output.renderOutput(dataTable, element);\n",
              "          const docLink = document.createElement('div');\n",
              "          docLink.innerHTML = docLinkHtml;\n",
              "          element.appendChild(docLink);\n",
              "        }\n",
              "      </script>\n",
              "    </div>\n",
              "  </div>\n",
              "  "
            ]
          },
          "metadata": {},
          "execution_count": 18
        }
      ],
      "source": [
        "# LOADNG OUR DATASET\n",
        "\n",
        "df =yf.download(\"BNB-USD\", start=start_date, end=end_date,progress=False) #collect our BNB stocks dataset\n",
        "df[\"Date\"] = df.index\n",
        "df[[\"Open\", \"High\", \"Low\", \"Close\", \"Adj Close\", \"Volume\"]]\n",
        "df.reset_index(drop=True,inplace=True)\n",
        "\n",
        "df.head() #showing the first rows"
      ]
    },
    {
      "cell_type": "markdown",
      "metadata": {
        "id": "NxyWfAWlTGsz"
      },
      "source": [
        "#**Data Exploration**\n",
        "###Now, we're make some analysis in our dataset"
      ]
    },
    {
      "cell_type": "code",
      "execution_count": 19,
      "metadata": {
        "colab": {
          "base_uri": "https://localhost:8080/"
        },
        "id": "9CvT_L8DTTG4",
        "outputId": "ef5494fa-8ce0-4d19-b8fa-399498fd68f7"
      },
      "outputs": [
        {
          "output_type": "execute_result",
          "data": {
            "text/plain": [
              "(1597, 7)"
            ]
          },
          "metadata": {},
          "execution_count": 19
        }
      ],
      "source": [
        "#First of all, let's see the total of rows and columns\n",
        "\n",
        "df.shape"
      ]
    },
    {
      "cell_type": "code",
      "execution_count": 20,
      "metadata": {
        "colab": {
          "base_uri": "https://localhost:8080/",
          "height": 300
        },
        "id": "FF_nUoQyUvhm",
        "outputId": "d801e02e-8a5d-4243-9740-06e1d84e3a4e"
      },
      "outputs": [
        {
          "output_type": "execute_result",
          "data": {
            "text/plain": [
              "              Open         High          Low        Close    Adj Close  \\\n",
              "count  1597.000000  1597.000000  1597.000000  1597.000000  1597.000000   \n",
              "mean    132.757766   137.571770   127.469607   132.906077   132.906077   \n",
              "std     189.546691   196.048808   182.176830   189.480472   189.480472   \n",
              "min       4.532951     4.635010     4.189971     4.528650     4.528650   \n",
              "25%      13.939000    14.409200    13.496400    13.925500    13.925500   \n",
              "50%      21.954395    22.620028    21.094284    21.968481    21.968481   \n",
              "75%     293.423889   307.588104   273.377930   293.641144   293.641144   \n",
              "max     676.315918   690.931946   634.549500   675.684082   675.684082   \n",
              "\n",
              "             Volume  \n",
              "count  1.597000e+03  \n",
              "mean   9.734892e+08  \n",
              "std    1.531265e+09  \n",
              "min    9.284000e+03  \n",
              "25%    1.280912e+08  \n",
              "50%    2.992368e+08  \n",
              "75%    1.473121e+09  \n",
              "max    1.798295e+10  "
            ],
            "text/html": [
              "\n",
              "  <div id=\"df-5c7c4d51-f05d-4cc0-a639-9cb48977acdf\">\n",
              "    <div class=\"colab-df-container\">\n",
              "      <div>\n",
              "<style scoped>\n",
              "    .dataframe tbody tr th:only-of-type {\n",
              "        vertical-align: middle;\n",
              "    }\n",
              "\n",
              "    .dataframe tbody tr th {\n",
              "        vertical-align: top;\n",
              "    }\n",
              "\n",
              "    .dataframe thead th {\n",
              "        text-align: right;\n",
              "    }\n",
              "</style>\n",
              "<table border=\"1\" class=\"dataframe\">\n",
              "  <thead>\n",
              "    <tr style=\"text-align: right;\">\n",
              "      <th></th>\n",
              "      <th>Open</th>\n",
              "      <th>High</th>\n",
              "      <th>Low</th>\n",
              "      <th>Close</th>\n",
              "      <th>Adj Close</th>\n",
              "      <th>Volume</th>\n",
              "    </tr>\n",
              "  </thead>\n",
              "  <tbody>\n",
              "    <tr>\n",
              "      <th>count</th>\n",
              "      <td>1597.000000</td>\n",
              "      <td>1597.000000</td>\n",
              "      <td>1597.000000</td>\n",
              "      <td>1597.000000</td>\n",
              "      <td>1597.000000</td>\n",
              "      <td>1.597000e+03</td>\n",
              "    </tr>\n",
              "    <tr>\n",
              "      <th>mean</th>\n",
              "      <td>132.757766</td>\n",
              "      <td>137.571770</td>\n",
              "      <td>127.469607</td>\n",
              "      <td>132.906077</td>\n",
              "      <td>132.906077</td>\n",
              "      <td>9.734892e+08</td>\n",
              "    </tr>\n",
              "    <tr>\n",
              "      <th>std</th>\n",
              "      <td>189.546691</td>\n",
              "      <td>196.048808</td>\n",
              "      <td>182.176830</td>\n",
              "      <td>189.480472</td>\n",
              "      <td>189.480472</td>\n",
              "      <td>1.531265e+09</td>\n",
              "    </tr>\n",
              "    <tr>\n",
              "      <th>min</th>\n",
              "      <td>4.532951</td>\n",
              "      <td>4.635010</td>\n",
              "      <td>4.189971</td>\n",
              "      <td>4.528650</td>\n",
              "      <td>4.528650</td>\n",
              "      <td>9.284000e+03</td>\n",
              "    </tr>\n",
              "    <tr>\n",
              "      <th>25%</th>\n",
              "      <td>13.939000</td>\n",
              "      <td>14.409200</td>\n",
              "      <td>13.496400</td>\n",
              "      <td>13.925500</td>\n",
              "      <td>13.925500</td>\n",
              "      <td>1.280912e+08</td>\n",
              "    </tr>\n",
              "    <tr>\n",
              "      <th>50%</th>\n",
              "      <td>21.954395</td>\n",
              "      <td>22.620028</td>\n",
              "      <td>21.094284</td>\n",
              "      <td>21.968481</td>\n",
              "      <td>21.968481</td>\n",
              "      <td>2.992368e+08</td>\n",
              "    </tr>\n",
              "    <tr>\n",
              "      <th>75%</th>\n",
              "      <td>293.423889</td>\n",
              "      <td>307.588104</td>\n",
              "      <td>273.377930</td>\n",
              "      <td>293.641144</td>\n",
              "      <td>293.641144</td>\n",
              "      <td>1.473121e+09</td>\n",
              "    </tr>\n",
              "    <tr>\n",
              "      <th>max</th>\n",
              "      <td>676.315918</td>\n",
              "      <td>690.931946</td>\n",
              "      <td>634.549500</td>\n",
              "      <td>675.684082</td>\n",
              "      <td>675.684082</td>\n",
              "      <td>1.798295e+10</td>\n",
              "    </tr>\n",
              "  </tbody>\n",
              "</table>\n",
              "</div>\n",
              "      <button class=\"colab-df-convert\" onclick=\"convertToInteractive('df-5c7c4d51-f05d-4cc0-a639-9cb48977acdf')\"\n",
              "              title=\"Convert this dataframe to an interactive table.\"\n",
              "              style=\"display:none;\">\n",
              "        \n",
              "  <svg xmlns=\"http://www.w3.org/2000/svg\" height=\"24px\"viewBox=\"0 0 24 24\"\n",
              "       width=\"24px\">\n",
              "    <path d=\"M0 0h24v24H0V0z\" fill=\"none\"/>\n",
              "    <path d=\"M18.56 5.44l.94 2.06.94-2.06 2.06-.94-2.06-.94-.94-2.06-.94 2.06-2.06.94zm-11 1L8.5 8.5l.94-2.06 2.06-.94-2.06-.94L8.5 2.5l-.94 2.06-2.06.94zm10 10l.94 2.06.94-2.06 2.06-.94-2.06-.94-.94-2.06-.94 2.06-2.06.94z\"/><path d=\"M17.41 7.96l-1.37-1.37c-.4-.4-.92-.59-1.43-.59-.52 0-1.04.2-1.43.59L10.3 9.45l-7.72 7.72c-.78.78-.78 2.05 0 2.83L4 21.41c.39.39.9.59 1.41.59.51 0 1.02-.2 1.41-.59l7.78-7.78 2.81-2.81c.8-.78.8-2.07 0-2.86zM5.41 20L4 18.59l7.72-7.72 1.47 1.35L5.41 20z\"/>\n",
              "  </svg>\n",
              "      </button>\n",
              "      \n",
              "  <style>\n",
              "    .colab-df-container {\n",
              "      display:flex;\n",
              "      flex-wrap:wrap;\n",
              "      gap: 12px;\n",
              "    }\n",
              "\n",
              "    .colab-df-convert {\n",
              "      background-color: #E8F0FE;\n",
              "      border: none;\n",
              "      border-radius: 50%;\n",
              "      cursor: pointer;\n",
              "      display: none;\n",
              "      fill: #1967D2;\n",
              "      height: 32px;\n",
              "      padding: 0 0 0 0;\n",
              "      width: 32px;\n",
              "    }\n",
              "\n",
              "    .colab-df-convert:hover {\n",
              "      background-color: #E2EBFA;\n",
              "      box-shadow: 0px 1px 2px rgba(60, 64, 67, 0.3), 0px 1px 3px 1px rgba(60, 64, 67, 0.15);\n",
              "      fill: #174EA6;\n",
              "    }\n",
              "\n",
              "    [theme=dark] .colab-df-convert {\n",
              "      background-color: #3B4455;\n",
              "      fill: #D2E3FC;\n",
              "    }\n",
              "\n",
              "    [theme=dark] .colab-df-convert:hover {\n",
              "      background-color: #434B5C;\n",
              "      box-shadow: 0px 1px 3px 1px rgba(0, 0, 0, 0.15);\n",
              "      filter: drop-shadow(0px 1px 2px rgba(0, 0, 0, 0.3));\n",
              "      fill: #FFFFFF;\n",
              "    }\n",
              "  </style>\n",
              "\n",
              "      <script>\n",
              "        const buttonEl =\n",
              "          document.querySelector('#df-5c7c4d51-f05d-4cc0-a639-9cb48977acdf button.colab-df-convert');\n",
              "        buttonEl.style.display =\n",
              "          google.colab.kernel.accessAllowed ? 'block' : 'none';\n",
              "\n",
              "        async function convertToInteractive(key) {\n",
              "          const element = document.querySelector('#df-5c7c4d51-f05d-4cc0-a639-9cb48977acdf');\n",
              "          const dataTable =\n",
              "            await google.colab.kernel.invokeFunction('convertToInteractive',\n",
              "                                                     [key], {});\n",
              "          if (!dataTable) return;\n",
              "\n",
              "          const docLinkHtml = 'Like what you see? Visit the ' +\n",
              "            '<a target=\"_blank\" href=https://colab.research.google.com/notebooks/data_table.ipynb>data table notebook</a>'\n",
              "            + ' to learn more about interactive tables.';\n",
              "          element.innerHTML = '';\n",
              "          dataTable['output_type'] = 'display_data';\n",
              "          await google.colab.output.renderOutput(dataTable, element);\n",
              "          const docLink = document.createElement('div');\n",
              "          docLink.innerHTML = docLinkHtml;\n",
              "          element.appendChild(docLink);\n",
              "        }\n",
              "      </script>\n",
              "    </div>\n",
              "  </div>\n",
              "  "
            ]
          },
          "metadata": {},
          "execution_count": 20
        }
      ],
      "source": [
        "df.describe()"
      ]
    },
    {
      "cell_type": "code",
      "source": [
        "gitly = GitlyPlotter('github')\n",
        "gitly.config_render('github')\n",
        "\n",
        "data = go.Candlestick(x = df[\"Date\"], open = df[\"Open\"],high = df[\"High\"], low = df[\"Low\"], close = df[\"Close\"])\n",
        "figure = go.Figure(data=data)\n",
        "\n",
        "figure.update_layout(title = \"BNB PRICE - HISTORICAL ANALYSIS\", xaxis_rangeslider_visible = False)\n",
        "\n",
        "gitly.show(figure)"
      ],
      "metadata": {
        "colab": {
          "base_uri": "https://localhost:8080/",
          "height": 467
        },
        "id": "IyG8je6fiwIm",
        "outputId": "aef0aa09-0328-47da-bc55-d8bdc9da4006"
      },
      "execution_count": 21,
      "outputs": [
        {
          "output_type": "execute_result",
          "data": {
            "text/plain": [
              "<IPython.core.display.Image object>"
            ],
            "image/png": "[encoded data removed]"
          },
          "metadata": {},
          "execution_count": 21
        }
      ]
    },
    {
      "cell_type": "markdown",
      "metadata": {
        "id": "qS-zUXIyGwHN"
      },
      "source": [
        "As we can see, the prices start to go higher after 2021's january, reaching your peak in the middle of the first semester of 2021"
      ]
    },
    {
      "cell_type": "code",
      "execution_count": 22,
      "metadata": {
        "colab": {
          "base_uri": "https://localhost:8080/"
        },
        "id": "BMnDNwBpHHb0",
        "outputId": "6fb87ece-ea51-44c2-d1e6-a90658df1e99"
      },
      "outputs": [
        {
          "output_type": "stream",
          "name": "stdout",
          "text": [
            "14820.21045633444 %\n"
          ]
        }
      ],
      "source": [
        "#Now let's see te variation between the top and botton prices\n",
        "\n",
        "x1 = df[\"Close\"].max()\n",
        "x2 = df[\"Close\"].min()\n",
        "\n",
        "x = ((x1/x2)-1)*100\n",
        "\n",
        "print(x,\"%\")"
      ]
    },
    {
      "cell_type": "markdown",
      "metadata": {
        "id": "FbzozMvWJvcN"
      },
      "source": [
        "We can see a variation of almost 15000%!"
      ]
    },
    {
      "cell_type": "markdown",
      "metadata": {
        "id": "VFvq6FT6KRzF"
      },
      "source": [
        "#**Now, it's time to make our predictions**\n",
        "###Let's see if it works hahahahaha"
      ]
    },
    {
      "cell_type": "code",
      "execution_count": 23,
      "metadata": {
        "colab": {
          "base_uri": "https://localhost:8080/",
          "height": 269
        },
        "id": "X5CNST9uKlLk",
        "outputId": "129a9545-7e33-49ec-e616-9dd0be8f8864"
      },
      "outputs": [
        {
          "output_type": "display_data",
          "data": {
            "text/plain": [
              "<Figure size 432x288 with 2 Axes>"
            ],
            "image/png": "[encoded data removed]"
          },
          "metadata": {
            "needs_background": "light"
          }
        }
      ],
      "source": [
        "#Before to make our predicitons, we have to get the correlation between the values\n",
        "\n",
        "correlation = df.corr()\n",
        "\n",
        "import matplotlib.pyplot as plt\n",
        "import seaborn as sns\n",
        "\n",
        "figure = sns.heatmap(correlation, cmap = \"YlGnBu\",annot = True)\n",
        "\n",
        "plt.show(figure)"
      ]
    },
    {
      "cell_type": "markdown",
      "metadata": {
        "id": "0qH66ZxXMKVE"
      },
      "source": [
        "The volume column has a low correlation with the other columns in comparison. But, the correlations are almost perfect betwenn prices columns (open, high, low and close). To continue our study, we'll focus our predictions in these columns."
      ]
    },
    {
      "cell_type": "markdown",
      "metadata": {
        "id": "bFToMvwlNreo"
      },
      "source": [
        "To continue our study, let's define our prediction time, i decided to predict until the next 90 days (considering i made this study in 2021's may)."
      ]
    },
    {
      "cell_type": "code",
      "execution_count": null,
      "metadata": {
        "id": "kkRmQNa3OOX9"
      },
      "outputs": [],
      "source": [
        "#Importing our machine learning library\n",
        "\n",
        "from autots import AutoTS\n",
        "\n",
        "model = AutoTS(forecast_length = 231, frequency = 'infer', ensemble = None)\n",
        "model = model.fit(df, date_col = 'Date', value_col = 'Close', id_col = None)\n",
        "\n",
        "prediction = model.predict()\n",
        "forecast = prediction.forecast\n",
        "\n",
        "print(model) #statistics about the best regression choiced"
      ]
    },
    {
      "cell_type": "markdown",
      "metadata": {
        "id": "AyZHY_3FZI6B"
      },
      "source": [
        "Now, it's time to plot our results"
      ]
    },
    {
      "cell_type": "code",
      "execution_count": 30,
      "metadata": {
        "colab": {
          "base_uri": "https://localhost:8080/",
          "height": 467
        },
        "id": "pmgOA3-xgIbK",
        "outputId": "bd545de3-9491-483f-83a3-31172d2faabd"
      },
      "outputs": [
        {
          "output_type": "execute_result",
          "data": {
            "text/plain": [
              "<IPython.core.display.Image object>"
            ],
            "image/png": "[encoded data removed]"
          },
          "metadata": {},
          "execution_count": 30
        }
      ],
      "source": [
        "forecast['Date'] = forecast.index #passing the index date to a Date column\n",
        "\n",
        "import plotly.express as px\n",
        "\n",
        "fig = px.line(forecast, x = \"Date\", y = \"Close\", title = 'BNB close price forecast until the end of year') #plotting our forecast\n",
        "\n",
        "gitly.show(fig)"
      ]
    },
    {
      "cell_type": "code",
      "execution_count": 14,
      "metadata": {
        "colab": {
          "base_uri": "https://localhost:8080/"
        },
        "id": "Hsfe33Ffjodk",
        "outputId": "bcdbb7d4-6e7d-4ea2-d72c-82021cc3db25"
      },
      "outputs": [
        {
          "output_type": "stream",
          "name": "stdout",
          "text": [
            "51.62343086845127 %\n"
          ]
        }
      ],
      "source": [
        "# now, let's see BNB percentile of variation\n",
        "\n",
        "x1 = forecast['Close'].min()\n",
        "x2 = forecast['Close'].max()\n",
        "\n",
        "x = ((x2/x1)-1)*100\n",
        "\n",
        "print(x,\"%\")"
      ]
    },
    {
      "cell_type": "markdown",
      "metadata": {
        "id": "cYRS-_uvkFz9"
      },
      "source": [
        "Wich means from now until the peak (around final of september/october of december), the BNB tends to variate closer to 67%.(too good, isn't it)?\n"
      ]
    },
    {
      "cell_type": "markdown",
      "metadata": {
        "id": "SlX40NdSlajP"
      },
      "source": [
        "#**Conclusions**\n",
        "\n",
        "The BNB coin is the most valuable coins in cryptomarket today. Unfortunately, some events that happens today made all of cryptocurrencies drops, and with the characteristic volatility of the market, your price goes down. \n",
        "\n",
        "As we see with the forecast, despite some actual events, the BNB price tends to increase during the days, what makes new and old investors became bullish (some crypto slang when you bet in some cryptocurrent increase)."
      ]
    }
  ],
  "metadata": {
    "colab": {
      "name": "BNB_Prediction.ipynb",
      "provenance": [],
      "collapsed_sections": [],
      "authorship_tag": "ABX9TyPKSyQTdN+m5gtBjY8Hx0Ht",
      "include_colab_link": true
    },
    "kernelspec": {
      "display_name": "Python 3",
      "name": "python3"
    },
    "language_info": {
      "name": "python"
    }
  },
  "nbformat": 4,
  "nbformat_minor": 0
}